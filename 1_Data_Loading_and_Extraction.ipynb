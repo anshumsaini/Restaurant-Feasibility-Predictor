{
 "cells": [
  {
   "cell_type": "markdown",
   "id": "6dd608e5",
   "metadata": {},
   "source": [
    "## Introduction"
   ]
  },
  {
   "cell_type": "markdown",
   "id": "cd3cd4c8",
   "metadata": {},
   "source": [
    "The restaurant industry in Canada generated close to **$79 billion** in 2019 which accounted for **1.5%** of the country's GDP. More than **97,000 businesses**, which employ **6.4% (approximately 1.2 million people)** of country's total workforce constituted this 1.5% in 2019.  Given the significance of this industry, it’s size and employment numbers, I decided to create a model that could help business owners and investors determine the essential features that predict a restaurant’s success or failure.\n",
    "\n",
    "Based on this analysis, investors can decide whether they should invest at a particular business based on the likelihood that it is going to get closed in the future; existing businesses could intervene and improve upon those parameters whereas new businesses could analyze the potential before entering the market.\n",
    "\n",
    "The dataset for this project was collected from **Yelp Open Dataset** which is publicly available as of Mar 16, 2021 for educational and academic purposes. The dataset's size is 11 GB with 5 json files on businesses, reviews, users, tips and checkin data. For this project, I have focused on businesses' and their reviews data. There are 160,585 businesses and 8,635,403 reviews in the complete dataset, but for this project, I have utilized the data for restaurants within Vancouver, British Columbia.\n",
    "\n",
    "Initially, in part 1, we will start by importing the dataset and extracting the required data from .json files. In part 2, the data will be cleaned, primarily consisting of removing/imputing duplicates and null values and subsequently, project feature engineering will be performed to create custom data columns that can help in predicting success/failure of a restaurant. This is then followed by an Exploratory Data Analysis (EDA) to understand the final cleaned dataset. In part 3 of the project, models will be build and evaluated on various performance parameters."
   ]
  },
  {
   "cell_type": "markdown",
   "id": "600edca2",
   "metadata": {},
   "source": [
    "## Importing"
   ]
  },
  {
   "cell_type": "markdown",
   "id": "5acc7145",
   "metadata": {},
   "source": [
    "**Importing libraries:** The first step is to import all modules and libraries which will be used in this notebook."
   ]
  },
  {
   "cell_type": "code",
   "execution_count": 1,
   "id": "58597378",
   "metadata": {},
   "outputs": [],
   "source": [
    "# Import the relevant libraries and modules which will be utilized in this notebook\n",
    "import pandas as pd \n",
    "import json"
   ]
  },
  {
   "cell_type": "markdown",
   "id": "d1986eb1",
   "metadata": {},
   "source": [
    "**Importing data:** The data will be imported from input folder which has .json files that were extracted from the downloaded __[Yelp Dataset](https://www.yelp.com/dataset/download)__\n",
    "\n",
    "**1. Restaurants in Vancouver, British Columbia:** As a first step, we will load the dataset available and then filter out the businesses based on category('Restaurant'), city('Vancouver') and state('BC')\n",
    "\n",
    "**2. Reviews:** We will load the reviews dataset and filter the reviews based on  business_id of restaurants in Vancouver, BC."
   ]
  },
  {
   "cell_type": "code",
   "execution_count": 2,
   "id": "0e3011e8",
   "metadata": {
    "scrolled": true
   },
   "outputs": [
    {
     "name": "stdout",
     "output_type": "stream",
     "text": [
      "Number of businesses:  160,585\n",
      "Number of features:  14\n"
     ]
    },
    {
     "data": {
      "text/html": [
       "<div>\n",
       "<style scoped>\n",
       "    .dataframe tbody tr th:only-of-type {\n",
       "        vertical-align: middle;\n",
       "    }\n",
       "\n",
       "    .dataframe tbody tr th {\n",
       "        vertical-align: top;\n",
       "    }\n",
       "\n",
       "    .dataframe thead th {\n",
       "        text-align: right;\n",
       "    }\n",
       "</style>\n",
       "<table border=\"1\" class=\"dataframe\">\n",
       "  <thead>\n",
       "    <tr style=\"text-align: right;\">\n",
       "      <th></th>\n",
       "      <th>business_id</th>\n",
       "      <th>name</th>\n",
       "      <th>address</th>\n",
       "      <th>city</th>\n",
       "      <th>state</th>\n",
       "      <th>postal_code</th>\n",
       "      <th>latitude</th>\n",
       "      <th>longitude</th>\n",
       "      <th>stars</th>\n",
       "      <th>review_count</th>\n",
       "      <th>is_open</th>\n",
       "      <th>attributes</th>\n",
       "      <th>categories</th>\n",
       "      <th>hours</th>\n",
       "    </tr>\n",
       "  </thead>\n",
       "  <tbody>\n",
       "    <tr>\n",
       "      <th>0</th>\n",
       "      <td>6iYb2HFDywm3zjuRg0shjw</td>\n",
       "      <td>Oskar Blues Taproom</td>\n",
       "      <td>921 Pearl St</td>\n",
       "      <td>Boulder</td>\n",
       "      <td>CO</td>\n",
       "      <td>80302</td>\n",
       "      <td>40.017544</td>\n",
       "      <td>-105.283348</td>\n",
       "      <td>4.0</td>\n",
       "      <td>86</td>\n",
       "      <td>1</td>\n",
       "      <td>{'RestaurantsTableService': 'True', 'WiFi': 'u...</td>\n",
       "      <td>Gastropubs, Food, Beer Gardens, Restaurants, B...</td>\n",
       "      <td>{'Monday': '11:0-23:0', 'Tuesday': '11:0-23:0'...</td>\n",
       "    </tr>\n",
       "    <tr>\n",
       "      <th>1</th>\n",
       "      <td>tCbdrRPZA0oiIYSmHG3J0w</td>\n",
       "      <td>Flying Elephants at PDX</td>\n",
       "      <td>7000 NE Airport Way</td>\n",
       "      <td>Portland</td>\n",
       "      <td>OR</td>\n",
       "      <td>97218</td>\n",
       "      <td>45.588906</td>\n",
       "      <td>-122.593331</td>\n",
       "      <td>4.0</td>\n",
       "      <td>126</td>\n",
       "      <td>1</td>\n",
       "      <td>{'RestaurantsTakeOut': 'True', 'RestaurantsAtt...</td>\n",
       "      <td>Salad, Soup, Sandwiches, Delis, Restaurants, C...</td>\n",
       "      <td>{'Monday': '5:0-18:0', 'Tuesday': '5:0-17:0', ...</td>\n",
       "    </tr>\n",
       "    <tr>\n",
       "      <th>2</th>\n",
       "      <td>bvN78flM8NLprQ1a1y5dRg</td>\n",
       "      <td>The Reclaimory</td>\n",
       "      <td>4720 Hawthorne Ave</td>\n",
       "      <td>Portland</td>\n",
       "      <td>OR</td>\n",
       "      <td>97214</td>\n",
       "      <td>45.511907</td>\n",
       "      <td>-122.613693</td>\n",
       "      <td>4.5</td>\n",
       "      <td>13</td>\n",
       "      <td>1</td>\n",
       "      <td>{'BusinessAcceptsCreditCards': 'True', 'Restau...</td>\n",
       "      <td>Antiques, Fashion, Used, Vintage &amp; Consignment...</td>\n",
       "      <td>{'Thursday': '11:0-18:0', 'Friday': '11:0-18:0...</td>\n",
       "    </tr>\n",
       "  </tbody>\n",
       "</table>\n",
       "</div>"
      ],
      "text/plain": [
       "              business_id                     name              address  \\\n",
       "0  6iYb2HFDywm3zjuRg0shjw      Oskar Blues Taproom         921 Pearl St   \n",
       "1  tCbdrRPZA0oiIYSmHG3J0w  Flying Elephants at PDX  7000 NE Airport Way   \n",
       "2  bvN78flM8NLprQ1a1y5dRg           The Reclaimory   4720 Hawthorne Ave   \n",
       "\n",
       "       city state postal_code   latitude   longitude  stars  review_count  \\\n",
       "0   Boulder    CO       80302  40.017544 -105.283348    4.0            86   \n",
       "1  Portland    OR       97218  45.588906 -122.593331    4.0           126   \n",
       "2  Portland    OR       97214  45.511907 -122.613693    4.5            13   \n",
       "\n",
       "   is_open                                         attributes  \\\n",
       "0        1  {'RestaurantsTableService': 'True', 'WiFi': 'u...   \n",
       "1        1  {'RestaurantsTakeOut': 'True', 'RestaurantsAtt...   \n",
       "2        1  {'BusinessAcceptsCreditCards': 'True', 'Restau...   \n",
       "\n",
       "                                          categories  \\\n",
       "0  Gastropubs, Food, Beer Gardens, Restaurants, B...   \n",
       "1  Salad, Soup, Sandwiches, Delis, Restaurants, C...   \n",
       "2  Antiques, Fashion, Used, Vintage & Consignment...   \n",
       "\n",
       "                                               hours  \n",
       "0  {'Monday': '11:0-23:0', 'Tuesday': '11:0-23:0'...  \n",
       "1  {'Monday': '5:0-18:0', 'Tuesday': '5:0-17:0', ...  \n",
       "2  {'Thursday': '11:0-18:0', 'Friday': '11:0-18:0...  "
      ]
     },
     "execution_count": 2,
     "metadata": {},
     "output_type": "execute_result"
    }
   ],
   "source": [
    "# Data about all 160,585 businesses\n",
    "business_df = pd.read_json(r'input\\yelp_academic_dataset_business.json', lines=True, encoding='utf-8')\n",
    "\n",
    "# check the count\n",
    "print(f'Number of businesses: {business_df.shape[0]: ,}')\n",
    "print(f'Number of features: {business_df.shape[1]: ,}')\n",
    "\n",
    "# view the data\n",
    "business_df.head(3)"
   ]
  },
  {
   "cell_type": "markdown",
   "id": "821ce40e",
   "metadata": {},
   "source": [
    "Focus of my analysis is restaurants in Vancouver city. Therefore, in the next step, data will be filtered based on these conditions, namely category of business under `categories`, city in the field `city` and British Columbia can be selected from `state` column with the value as'BC'."
   ]
  },
  {
   "cell_type": "code",
   "execution_count": 3,
   "id": "f13c96ed",
   "metadata": {},
   "outputs": [
    {
     "name": "stdout",
     "output_type": "stream",
     "text": [
      "Number of Restaurants:  4,749\n",
      "Number of features:  14\n"
     ]
    }
   ],
   "source": [
    "# extracting the Vancouver restaurants data\n",
    "vancouver_restaurants = business_df[(business_df['city'].str.lower().str.contains('vancouver')) &\\\n",
    "                                    (business_df['state'] == 'BC') &\\\n",
    "                                    (business_df['categories'].str.lower().str.contains('restaurant'))].reset_index(drop=True)\n",
    "\n",
    "# checking number of restaurants\n",
    "print(f'Number of Restaurants: {vancouver_restaurants.shape[0]: ,}')\n",
    "print(f'Number of features: {vancouver_restaurants.shape[1]: ,}')"
   ]
  },
  {
   "cell_type": "markdown",
   "id": "3804008f",
   "metadata": {},
   "source": [
    "This gives us data for 4,749 restaurants to analyze. Next, we will import the reviews related to these restaurants from reviews data downloaded from yelp."
   ]
  },
  {
   "cell_type": "code",
   "execution_count": 4,
   "id": "d23f9c75",
   "metadata": {},
   "outputs": [
    {
     "name": "stdout",
     "output_type": "stream",
     "text": [
      "Number of Reviews:  322,251\n",
      "Number of features:  9\n"
     ]
    }
   ],
   "source": [
    "# open the review file in input folder\n",
    "data_file = open(r'input\\yelp_academic_dataset_review.json', encoding=\"utf8\")\n",
    "data = []\n",
    "i = 0\n",
    "\n",
    "# read data line by line and append if it's for the restaurants in Vancouver\n",
    "for line in data_file:\n",
    "    review = json.loads(line)\n",
    "    if review['business_id'] in vancouver_restaurants['business_id'].values:\n",
    "        data.append(review)\n",
    "        print(i, end='\\r')\n",
    "    i = i+1\n",
    "\n",
    "# add data in dataframe\n",
    "review_df = pd.DataFrame(data)\n",
    "\n",
    "# close the file\n",
    "data_file.close()\n",
    "\n",
    "# check size of data\n",
    "print(f'Number of Reviews: {review_df.shape[0]: ,}')\n",
    "print(f'Number of features: {review_df.shape[1]: ,}')"
   ]
  },
  {
   "cell_type": "markdown",
   "id": "21dd3ab9",
   "metadata": {},
   "source": [
    "We will now export these datasets to work further."
   ]
  },
  {
   "cell_type": "code",
   "execution_count": 5,
   "id": "686d10d0",
   "metadata": {},
   "outputs": [],
   "source": [
    "# save the filtered content as csv file in data folder\n",
    "vancouver_restaurants.to_csv(r'data\\vancouver_restaurants.csv', encoding='utf-8', index=False)\n",
    "review_df.to_csv(r'data\\vancouver_restaurants_reviews.csv', encoding='utf-8', index=False)"
   ]
  },
  {
   "cell_type": "markdown",
   "id": "630b2127",
   "metadata": {},
   "source": [
    "We will perform Data cleaning and Exploratory Data Analysis in _**'2_Data_Cleaning_EDA_and_Features_Engineering'**_ notebook."
   ]
  }
 ],
 "metadata": {
  "kernelspec": {
   "display_name": "Python 3 (ipykernel)",
   "language": "python",
   "name": "python3"
  },
  "language_info": {
   "codemirror_mode": {
    "name": "ipython",
    "version": 3
   },
   "file_extension": ".py",
   "mimetype": "text/x-python",
   "name": "python",
   "nbconvert_exporter": "python",
   "pygments_lexer": "ipython3",
   "version": "3.8.11"
  }
 },
 "nbformat": 4,
 "nbformat_minor": 5
}
